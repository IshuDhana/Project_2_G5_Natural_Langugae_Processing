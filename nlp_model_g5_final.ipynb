{
 "cells": [
  {
   "cell_type": "code",
   "execution_count": 1,
   "id": "b0f6e179",
   "metadata": {},
   "outputs": [
    {
     "data": {
      "text/html": [
       "<style>.container { width:100% !important; }</style>"
      ],
      "text/plain": [
       "<IPython.core.display.HTML object>"
      ]
     },
     "metadata": {},
     "output_type": "display_data"
    }
   ],
   "source": [
    "from IPython.display import display, HTML\n",
    "display(HTML(\"<style>.container { width:100% !important; }</style>\"))"
   ]
  },
  {
   "cell_type": "markdown",
   "id": "d14f57ab",
   "metadata": {},
   "source": [
    "# PROJECT | NATURAL LANGUAGE PROCESSING CHALLENGE\n",
    "\n",
    "## INTRODUCTION\n",
    "\n",
    "##### Learning how to process text is a skill required for Data Scientists/AI Engineers.\n",
    "\n",
    "##### In this project, you will put these skills into practice to identify whether a news headline is real or fake news.\n",
    "\n",
    "## PROJECT OVERVIEW\n",
    "\n",
    "##### In the file dataset/data.csv, you will find a dataset containing news articles with the following columns:\n",
    "\n",
    "##### Once you have a classifier built, then use it to predict the labels for dataset/validation_data.csv. Generate a new file where the label 2 has been replaced by 0 (fake) or 1 (real) according to your model. Please respect the original file format, do not include extra columns, and respect the column separator.\n",
    "\n",
    "##### Please ensure to split the data.csv into training and test datasets before using it for model training or evaluation.\n",
    "\n",
    "##### Your goal is to build a classifier that is able to distinguish between the two.\n",
    "\n",
    "##### Text Preprocessing: Cleaning and preparing the data using tokenization, stopword removal, and lemmatization.\n",
    "\n",
    "##### Feature Extraction: Converting text into numerical vectors using both CountVectorizer and TF-IDF Vectorizer.\n",
    "\n",
    "##### Model Development: Implemented and evaluated three different approaches:\n",
    "\n",
    "##### countVectorizer + Multinimial Naive Bayes, countVectorizer + Random Forest, TF-IDF + Random Forest, TF-IDF + Naive Bayes\n",
    "\n",
    "##### Model Evaluation: Compared all models using accuracy, confusion matrix, and F1-score to determine the most effective approach"
   ]
  },
  {
   "cell_type": "markdown",
   "id": "e2e2d67d",
   "metadata": {},
   "source": [
    "### Text Classification Pipeline with Multiple Models\n",
    "\n",
    "#### STEP 1 : IMPORT LIBRARIES\n",
    "\n",
    "##### Explanation:\n",
    "We import libraries for data handling, text preprocessing, feature extraction, machine learning, evaluation, and visualization."
   ]
  },
  {
   "cell_type": "code",
   "execution_count": 2,
   "id": "47be3721",
   "metadata": {},
   "outputs": [
    {
     "name": "stderr",
     "output_type": "stream",
     "text": [
      "[nltk_data] Downloading package punkt to /Users/dhana/nltk_data...\n",
      "[nltk_data]   Package punkt is already up-to-date!\n",
      "[nltk_data] Downloading package stopwords to /Users/dhana/nltk_data...\n",
      "[nltk_data]   Package stopwords is already up-to-date!\n",
      "[nltk_data] Downloading package wordnet to /Users/dhana/nltk_data...\n",
      "[nltk_data]   Package wordnet is already up-to-date!\n"
     ]
    }
   ],
   "source": [
    "# Data handling\n",
    "import pandas as pd\n",
    "import numpy as np\n",
    "\n",
    "# Text preprocessing\n",
    "import re\n",
    "import string\n",
    "import nltk\n",
    "from nltk.tokenize import word_tokenize\n",
    "from nltk.corpus import stopwords\n",
    "from nltk.stem import PorterStemmer, WordNetLemmatizer\n",
    "\n",
    "# Download required NLTK resources\n",
    "nltk.download('punkt')\n",
    "nltk.download('stopwords')\n",
    "nltk.download('wordnet')\n",
    "\n",
    "# Feature extraction\n",
    "from sklearn.feature_extraction.text import CountVectorizer, TfidfVectorizer\n",
    "\n",
    "# Machine learning models\n",
    "from sklearn.naive_bayes import MultinomialNB\n",
    "from sklearn.ensemble import RandomForestClassifier\n",
    "\n",
    "# Model evaluation\n",
    "from sklearn.model_selection import train_test_split\n",
    "from sklearn.metrics import accuracy_score, confusion_matrix, classification_report, f1_score\n",
    "\n",
    "# Visualization\n",
    "import matplotlib.pyplot as plt\n",
    "import seaborn as sns\n"
   ]
  },
  {
   "cell_type": "markdown",
   "id": "6c8f53d2",
   "metadata": {},
   "source": [
    "#### STEP 2 : LOAD DATASET\n",
    "\n",
    "##### Explanation:\n",
    "This loads the dataset, renames columns, and prints a preview."
   ]
  },
  {
   "cell_type": "code",
   "execution_count": 3,
   "id": "65d83958",
   "metadata": {},
   "outputs": [
    {
     "name": "stdout",
     "output_type": "stream",
     "text": [
      "(34152, 2)\n",
      "   label                                              title\n",
      "0      0  donald trump sends out embarrassing new year‚s...\n",
      "1      0  drunk bragging trump staffer started russian c...\n",
      "2      0  sheriff david clarke becomes an internet joke ...\n",
      "3      0  trump is so obsessed he even has obama‚s name ...\n",
      "4      0  pope francis just called out donald trump duri...\n"
     ]
    }
   ],
   "source": [
    "# Load training data\n",
    "df = pd.read_csv(\"~/Library/Mobile Documents/com~apple~CloudDocs/Ironhack/Project_2/training_data_lowercase.csv\", sep=\"\\t\", header=None, names=['label','title'], encoding='utf-8', engine='python')\n",
    "\n",
    "# Display shape and head\n",
    "print(df.shape)\n",
    "print(df.head())\n"
   ]
  },
  {
   "cell_type": "markdown",
   "id": "1a0dfdde",
   "metadata": {},
   "source": [
    "#### STEP 3 : TEXT PREPROCESSING\n",
    "\n",
    "##### Explanation:\n",
    "This function tokenizes, removes stopwords, applies lemmatization and stemming, and cleans text. We apply it to the entire dataset.\n",
    "\n",
    "The preprocessing function prepares raw text data for machine learning by performing several key steps:\n",
    "\n",
    "##### Tokenization:  Splits the text into individual words (tokens) so each word can be analyzed separately.\n",
    "\n",
    "##### Stopword Removal: Removes common words like “the”, “is”, “and” that don’t carry meaningful information for classification.\n",
    "\n",
    "##### Cleaning:  Eliminates punctuation, numbers, and other non-letter characters to reduce noise.\n",
    "\n",
    "##### Lemmatization: Converts words to their base or dictionary form (e.g., “running” → “run”) to treat similar words the same.\n",
    "\n",
    "##### Stemming:  Reduces words to their root form (e.g., “played” → “play”), further simplifying the vocabulary."
   ]
  },
  {
   "cell_type": "code",
   "execution_count": 4,
   "id": "d2e0df75",
   "metadata": {},
   "outputs": [],
   "source": [
    "def preprocess_text(text):\n",
    "    # --- Clean hidden or unwanted characters ---\n",
    "    if not isinstance(text, str):\n",
    "        text = str(text)\n",
    "    text = text.replace('\\ufeff', '')        # Remove BOM characters\n",
    "    text = text.strip()                      # Remove leading/trailing spaces\n",
    "    text = re.sub(r'\\s+', ' ', text)         # Normalize multiple spaces\n",
    "    \n",
    "    # --- Tokenization ---\n",
    "    tokens = word_tokenize(text.lower())\n",
    "    \n",
    "    # --- Remove stopwords ---\n",
    "    stop_words = set(stopwords.words('english'))\n",
    "    tokens = [t for t in tokens if t not in stop_words]\n",
    "    \n",
    "    # --- Remove punctuation and numbers ---\n",
    "    tokens = [re.sub(r'[^a-zA-Z]', '', t) for t in tokens]\n",
    "    tokens = [t for t in tokens if t]  # Remove empty strings\n",
    "    \n",
    "    # --- Lemmatization ---\n",
    "    lemmatizer = WordNetLemmatizer()\n",
    "    tokens = [lemmatizer.lemmatize(t) for t in tokens]\n",
    "    \n",
    "    # --- Stemming ---\n",
    "    stemmer = PorterStemmer()\n",
    "    tokens = [stemmer.stem(t) for t in tokens]\n",
    "    \n",
    "    return ' '.join(tokens)"
   ]
  },
  {
   "cell_type": "code",
   "execution_count": 5,
   "id": "52ead554",
   "metadata": {},
   "outputs": [],
   "source": [
    "# Apply preprocessing\n",
    "df['Processed_Text'] = df['title'].apply(preprocess_text)"
   ]
  },
  {
   "cell_type": "markdown",
   "id": "0b43b779",
   "metadata": {},
   "source": [
    "#### STEP 4 : SPLIT DATA \n",
    "\n",
    "##### Explanation:\n",
    "Split the data into training and validation sets.\n"
   ]
  },
  {
   "cell_type": "code",
   "execution_count": 6,
   "id": "23e65a91",
   "metadata": {},
   "outputs": [],
   "source": [
    "X = df['Processed_Text']\n",
    "y = df['label'].astype(int)\n",
    "\n",
    "X_train, X_val, y_train, y_val = train_test_split(\n",
    "    X, y, test_size=0.2, stratify=y, random_state=42\n",
    ")"
   ]
  },
  {
   "cell_type": "markdown",
   "id": "056da637",
   "metadata": {},
   "source": [
    "#### STEP 5 : FEATURE EXTRACTION\n",
    "\n",
    "##### Explanation:\n",
    "We prepare two types of features: Bag-of-Words (CountVectorizer) and TF-IDF."
   ]
  },
  {
   "cell_type": "code",
   "execution_count": 7,
   "id": "ccca2915",
   "metadata": {},
   "outputs": [
    {
     "name": "stdout",
     "output_type": "stream",
     "text": [
      "CountVectorizer shape: (27321, 8747)\n"
     ]
    }
   ],
   "source": [
    "# CountVectorizer for Base Model\n",
    "count_vect = CountVectorizer(min_df=5, ngram_range=(1,2))\n",
    "X_train_count = count_vect.fit_transform(X_train)\n",
    "X_val_count  = count_vect.transform(X_val)\n",
    "print(\"CountVectorizer shape:\", X_train_count.shape)"
   ]
  },
  {
   "cell_type": "code",
   "execution_count": 8,
   "id": "92bafdd2",
   "metadata": {},
   "outputs": [
    {
     "name": "stdout",
     "output_type": "stream",
     "text": [
      "TF-IDF shape: (27321, 8747)\n"
     ]
    }
   ],
   "source": [
    "# TF-IDF Vectorizer\n",
    "tfidf_vect = TfidfVectorizer(min_df=5, ngram_range=(1,2))\n",
    "X_train_tfidf = tfidf_vect.fit_transform(X_train)\n",
    "X_val_tfidf  = tfidf_vect.transform(X_val)\n",
    "print(\"TF-IDF shape:\", X_train_tfidf.shape)"
   ]
  },
  {
   "cell_type": "code",
   "execution_count": 9,
   "id": "2df51bf7",
   "metadata": {},
   "outputs": [
    {
     "name": "stdout",
     "output_type": "stream",
     "text": [
      "            Word  Frequency\n",
      "7634       trump       9816\n",
      "8305       video       4444\n",
      "6358         say       2445\n",
      "4954       obama       1933\n",
      "3356        hous       1505\n",
      "5989  republican       1418\n",
      "6569       senat       1251\n",
      "3259     hillari       1229\n",
      "1272     clinton       1160\n",
      "8521       white       1118\n",
      "5564      presid       1058\n",
      "4797         new       1012\n",
      "1837    democrat        903\n",
      "645         bill        891\n",
      "967         call        830\n",
      "8524  white hous        830\n",
      "6247      russia        796\n",
      "7020       state        769\n",
      "2851         get        750\n",
      "8356        vote        718\n"
     ]
    }
   ],
   "source": [
    "# Get total word counts from CountVectorizer\n",
    "word_freq = np.asarray(X_train_count.sum(axis=0)).flatten()\n",
    "words = count_vect.get_feature_names_out()\n",
    "\n",
    "# Create a DataFrame with words and their frequencies\n",
    "word_freq_df = pd.DataFrame({'Word': words, 'Frequency': word_freq})\n",
    "\n",
    "# Sort by frequency (highest first)\n",
    "word_freq_df = word_freq_df.sort_values(by='Frequency', ascending=False)\n",
    "\n",
    "# Show top 20 most frequent words\n",
    "print(word_freq_df.head(20))"
   ]
  },
  {
   "cell_type": "code",
   "execution_count": 10,
   "id": "b49fbd45",
   "metadata": {},
   "outputs": [
    {
     "data": {
      "image/png": "[encoded data removed]",
      "text/plain": [
       "<Figure size 640x480 with 1 Axes>"
      ]
     },
     "metadata": {},
     "output_type": "display_data"
    }
   ],
   "source": [
    "import numpy as np\n",
    "import matplotlib.pyplot as plt\n",
    "\n",
    "word_freq = np.asarray(X_train_count.sum(axis=0)).flatten()\n",
    "words = count_vect.get_feature_names_out()\n",
    "\n",
    "top_indices = word_freq.argsort()[-10:][::-1]\n",
    "top_words = [words[i] for i in top_indices]\n",
    "top_freq = word_freq[top_indices]\n",
    "\n",
    "plt.barh(top_words[::-1], top_freq[::-1])\n",
    "plt.title(\"Top 10 Most Frequent Words (CountVectorizer)\")\n",
    "plt.xlabel(\"Frequency\")\n",
    "plt.show()\n"
   ]
  },
  {
   "cell_type": "markdown",
   "id": "85c4d1d1",
   "metadata": {},
   "source": [
    "### BASE MODEL: Count vectore +multinomial"
   ]
  },
  {
   "cell_type": "markdown",
   "id": "273b755a",
   "metadata": {},
   "source": [
    "#### COUNTVECTORIZER IMPLEMENTATION LIKE A SIMPLE BAG-OF-WORDS WITH MULTINOMIALNB"
   ]
  },
  {
   "cell_type": "code",
   "execution_count": 11,
   "id": "cf783881",
   "metadata": {},
   "outputs": [
    {
     "name": "stdout",
     "output_type": "stream",
     "text": [
      "Train accuracy: 0.9418762124373192\n",
      "Validation accuracy: 0.9298784950958864\n"
     ]
    }
   ],
   "source": [
    "# Implement Bag of Words\n",
    "countvector_m1 = CountVectorizer(ngram_range=(1,2), min_df=5)\n",
    "X_train_count_m1 = countvector_m1.fit_transform(X_train)\n",
    "X_val_count_m1  = countvector_m1.transform(X_val)\n",
    "\n",
    "# Train Naive Bayes on Count Vectors\n",
    "nb_count_m1 = MultinomialNB()\n",
    "nb_count_m1.fit(X_train_count_m1, y_train)\n",
    "\n",
    "# Predict and evaluate\n",
    "pred_nb_t_count_m1 = nb_count_m1.predict(X_train_count_m1)\n",
    "print(\"Train accuracy:\", accuracy_score(y_train, pred_nb_t_count_m1))\n",
    "\n",
    "pred_nb_v_count_m1 = nb_count_m1.predict(X_val_count_m1)\n",
    "print(\"Validation accuracy:\", accuracy_score(y_val, pred_nb_v_count_m1))\n"
   ]
  },
  {
   "cell_type": "code",
   "execution_count": 12,
   "id": "69f96963",
   "metadata": {},
   "outputs": [
    {
     "data": {
      "image/png": "[encoded data removed]",
      "text/plain": [
       "<Figure size 600x400 with 1 Axes>"
      ]
     },
     "metadata": {},
     "output_type": "display_data"
    },
    {
     "name": "stdout",
     "output_type": "stream",
     "text": [
      "              precision    recall  f1-score      support\n",
      "0              0.926884  0.937696  0.932259  3515.000000\n",
      "1              0.933130  0.921592  0.927325  3316.000000\n",
      "accuracy       0.929878  0.929878  0.929878     0.929878\n",
      "macro avg      0.930007  0.929644  0.929792  6831.000000\n",
      "weighted avg   0.929916  0.929878  0.929864  6831.000000\n"
     ]
    },
    {
     "name": "stderr",
     "output_type": "stream",
     "text": [
      "/var/folders/43/w059gz5x76g94491sqt2f0kh0000gn/T/ipykernel_3781/3362180651.py:16: FutureWarning: \n",
      "\n",
      "Passing `palette` without assigning `hue` is deprecated and will be removed in v0.14.0. Assign the `x` variable to `hue` and set `legend=False` for the same effect.\n",
      "\n",
      "  sns.barplot(x=report_df_m1.index[:-3], y=report_df_m1['f1-score'][:-3], palette='viridis')\n"
     ]
    },
    {
     "data": {
      "image/png": "[encoded data removed]",
      "text/plain": [
       "<Figure size 800x400 with 1 Axes>"
      ]
     },
     "metadata": {},
     "output_type": "display_data"
    }
   ],
   "source": [
    "# ---- Confusion Matrix Heatmap ----\n",
    "cm_m1 = confusion_matrix(y_val, pred_nb_v_count_m1)\n",
    "plt.figure(figsize=(6,4))\n",
    "sns.heatmap(cm_m1, annot=True, fmt='d', cmap='viridis', cbar=False)\n",
    "plt.title(f\"Confusion Matrix - Naive Bayes + CountVectorizer\")\n",
    "plt.xlabel('Predicted')\n",
    "plt.ylabel('Actual')\n",
    "plt.show()\n",
    "\n",
    "# ---- Class-wise F1 Score Bar Plot ----\n",
    "report_m1 = classification_report(y_val, pred_nb_v_count_m1, output_dict=True)\n",
    "report_df_m1 = pd.DataFrame(report_m1).transpose()\n",
    "print(report_df_m1)\n",
    "\n",
    "plt.figure(figsize=(8,4))\n",
    "sns.barplot(x=report_df_m1.index[:-3], y=report_df_m1['f1-score'][:-3], palette='viridis')\n",
    "plt.title('Class-wise F1 Scores - Naive Bayes + CountVectorizer')\n",
    "plt.ylabel('F1 Score')\n",
    "plt.xticks(rotation=45)\n",
    "plt.show()\n",
    "\n",
    "\n",
    "\n"
   ]
  },
  {
   "cell_type": "markdown",
   "id": "616dd749",
   "metadata": {},
   "source": [
    "### Model 2: Count Vector + Random Forest"
   ]
  },
  {
   "cell_type": "code",
   "execution_count": 13,
   "id": "c34e0911",
   "metadata": {},
   "outputs": [
    {
     "name": "stdout",
     "output_type": "stream",
     "text": [
      "CountVectorizer shape rf: (27321, 8747)\n",
      "Random Forest + CountVectorizer Train accuracy: 1.0\n",
      "Random Forest + CountVectorizer Validation accuracy: 0.9177\n",
      "\n",
      "Classification Report:\n",
      "              precision    recall  f1-score      support\n",
      "0              0.913007  0.928592  0.920733  3515.000000\n",
      "1              0.922912  0.906212  0.914486  3316.000000\n",
      "accuracy       0.917728  0.917728  0.917728     0.917728\n",
      "macro avg      0.917959  0.917402  0.917610  6831.000000\n",
      "weighted avg   0.917815  0.917728  0.917701  6831.000000\n"
     ]
    },
    {
     "data": {
      "image/png": "[encoded data removed]",
      "text/plain": [
       "<Figure size 600x400 with 1 Axes>"
      ]
     },
     "metadata": {},
     "output_type": "display_data"
    },
    {
     "name": "stderr",
     "output_type": "stream",
     "text": [
      "/var/folders/43/w059gz5x76g94491sqt2f0kh0000gn/T/ipykernel_3781/1757053903.py:37: FutureWarning: \n",
      "\n",
      "Passing `palette` without assigning `hue` is deprecated and will be removed in v0.14.0. Assign the `x` variable to `hue` and set `legend=False` for the same effect.\n",
      "\n",
      "  sns.barplot(x=report_df_m2.index[:-3], y=report_df_m2['f1-score'][:-3], palette='rocket')\n"
     ]
    },
    {
     "data": {
      "image/png": "[encoded data removed]",
      "text/plain": [
       "<Figure size 800x400 with 1 Axes>"
      ]
     },
     "metadata": {},
     "output_type": "display_data"
    }
   ],
   "source": [
    "\n",
    "count_vect_rf_m2 = CountVectorizer(min_df=5, ngram_range=(1,2))\n",
    "X_train_count_rf_m2 = count_vect_rf_m2.fit_transform(X_train)\n",
    "X_val_count_rf_m2  = count_vect_rf_m2.transform(X_val)\n",
    "print(\"CountVectorizer shape rf:\", X_train_count_rf_m2.shape)\n",
    "\n",
    "# ---- Train Random Forest on Count Vectors ----\n",
    "rf_count_cv_m2 = RandomForestClassifier(n_estimators=200, criterion='entropy', random_state=42)\n",
    "rf_count_cv_m2.fit(X_train_count_rf_m2, y_train)\n",
    "\n",
    "# ---- Predict ----\n",
    "pred_rf_t_count_m2 = rf_count_cv_m2.predict(X_train_count_rf_m2)\n",
    "pred_rf_v_count_m2 = rf_count_cv_m2.predict(X_val_count_rf_m2)\n",
    "\n",
    "# ---- Accuracy ----\n",
    "rfcv_t_accuracy_m2 = accuracy_score(y_train, pred_rf_t_count_m2)\n",
    "print(\"Random Forest + CountVectorizer Train accuracy:\", round(rfcv_t_accuracy_m2, 4))\n",
    "rfcv_v_accuracy_m2 = accuracy_score(y_val, pred_rf_v_count_m2)\n",
    "print(\"Random Forest + CountVectorizer Validation accuracy:\", round(rfcv_v_accuracy_m2, 4))\n",
    "\n",
    "# ---- Classification Report Table ----\n",
    "report_m2 = classification_report(y_val, pred_rf_v_count_m2, output_dict=True)\n",
    "report_df_m2 = pd.DataFrame(report_m2).transpose()\n",
    "print(\"\\nClassification Report:\")\n",
    "print(report_df_m2)\n",
    "\n",
    "# ---- Confusion Matrix Heatmap ----\n",
    "cm_m2 = confusion_matrix(y_val, pred_rf_v_count_m2)\n",
    "plt.figure(figsize=(6,4))\n",
    "sns.heatmap(cm_m2, annot=True, fmt='d', cmap='Reds', cbar=False)\n",
    "plt.title(f'Confusion Matrix - Random Forest + CountVectorizer (Accuracy: {rfcv_v_accuracy_m2:.2f})')\n",
    "plt.xlabel('Predicted')\n",
    "plt.ylabel('Actual')\n",
    "plt.show()\n",
    "\n",
    "# ---- Class-wise F1 Score Bar Plot ----\n",
    "plt.figure(figsize=(8,4))\n",
    "sns.barplot(x=report_df_m2.index[:-3], y=report_df_m2['f1-score'][:-3], palette='rocket')\n",
    "plt.title('Class-wise F1 Scores - Random Forest + CountVectorizer')\n",
    "plt.ylabel('F1 Score')\n",
    "plt.xticks(rotation=45)\n",
    "plt.show()\n"
   ]
  },
  {
   "cell_type": "markdown",
   "id": "303a8820",
   "metadata": {},
   "source": [
    "### MODEL 3: TF-IDF + Random Forest"
   ]
  },
  {
   "cell_type": "markdown",
   "id": "35b6332e",
   "metadata": {},
   "source": [
    "##### TRAIN RANDOM FOREST ON TF-IDF VECTOR (TF-IDF + RANDOM FOREST)"
   ]
  },
  {
   "cell_type": "code",
   "execution_count": 14,
   "id": "02ee4a02",
   "metadata": {},
   "outputs": [
    {
     "name": "stdout",
     "output_type": "stream",
     "text": [
      "[[3244  271]\n",
      " [ 265 3051]]\n",
      "Train accuracy: 1.0\n",
      "Validation accuracy: 0.9215341824037476\n",
      "              precision    recall  f1-score   support\n",
      "\n",
      "           0       0.92      0.92      0.92      3515\n",
      "           1       0.92      0.92      0.92      3316\n",
      "\n",
      "    accuracy                           0.92      6831\n",
      "   macro avg       0.92      0.92      0.92      6831\n",
      "weighted avg       0.92      0.92      0.92      6831\n",
      "\n"
     ]
    }
   ],
   "source": [
    "# TF-IDF Vectorizer\n",
    "tfidf_vect_m3 = TfidfVectorizer(min_df=5, ngram_range=(1,2))\n",
    "X_train_tfidf_m3 = tfidf_vect_m3.fit_transform(X_train)\n",
    "X_val_tfidf_m3  = tfidf_vect_m3.transform(X_val)\n",
    "\n",
    "\n",
    "# Train Random Forest on TF-IDF vectors\n",
    "randomclassifier_m3 = RandomForestClassifier(n_estimators=200, criterion='entropy', random_state=42)\n",
    "randomclassifier_m3.fit(X_train_tfidf_m3, y_train)\n",
    "\n",
    "# Predict on test TF-IDF data\n",
    "train_predictions_m3 = randomclassifier_m3.predict(X_train_tfidf_m3)\n",
    "val_predictions_m3 = randomclassifier_m3.predict(X_val_tfidf_m3)\n",
    "\n",
    "# Evaluate performance\n",
    "matrix_m3 = confusion_matrix(y_val, val_predictions_m3)\n",
    "print(matrix_m3)\n",
    "\n",
    "train_score_m3 = accuracy_score(y_train, train_predictions_m3)\n",
    "print(\"Train accuracy:\", train_score_m3)\n",
    "val_score_m3 = accuracy_score(y_val, val_predictions_m3)\n",
    "print(\"Validation accuracy:\", val_score_m3)\n",
    "\n",
    "report_m3 = classification_report(y_val, val_predictions_m3)\n",
    "print(report_m3)"
   ]
  },
  {
   "cell_type": "code",
   "execution_count": 15,
   "id": "cbfa3447",
   "metadata": {},
   "outputs": [
    {
     "name": "stdout",
     "output_type": "stream",
     "text": [
      "\n",
      "Confusion Matrix:\n",
      "[[3244  271]\n",
      " [ 265 3051]]\n"
     ]
    },
    {
     "data": {
      "image/png": "[encoded data removed]",
      "text/plain": [
       "<Figure size 600x400 with 1 Axes>"
      ]
     },
     "metadata": {},
     "output_type": "display_data"
    }
   ],
   "source": [
    "# Confusion matrix\n",
    "cm_m3 = confusion_matrix(y_val, val_predictions_m3)\n",
    "print(\"\\nConfusion Matrix:\")\n",
    "print(cm_m3)\n",
    "\n",
    "# ---- Plot Confusion Matrix ----\n",
    "plt.figure(figsize=(6,4))\n",
    "sns.heatmap(cm_m3, annot=True, fmt='d', cmap='Blues', cbar=False)\n",
    "plt.title(f'Confusion Matrix - Random Forest + TF-IDF (Validation accuracy: {val_score_m3:.2f})')\n",
    "plt.xlabel('Predicted')\n",
    "plt.ylabel('Actual')\n",
    "plt.show()\n",
    "\n"
   ]
  },
  {
   "cell_type": "markdown",
   "id": "2864b354",
   "metadata": {},
   "source": [
    "#### MODEL4:  TF-IDF + NAIVE BAYES"
   ]
  },
  {
   "cell_type": "code",
   "execution_count": 16,
   "id": "fd994905",
   "metadata": {},
   "outputs": [
    {
     "name": "stdout",
     "output_type": "stream",
     "text": [
      "Model (Naive Bayes + TF-IDF) Train accuracy: 0.9418396105559825\n",
      "Model (Naive Bayes + TF-IDF) Validation accuracy: 0.9307568438003221\n",
      "\n",
      "Classification Report:\n",
      "              precision    recall  f1-score      support\n",
      "0              0.926768  0.939687  0.933183  3515.000000\n",
      "1              0.935109  0.921291  0.928148  3316.000000\n",
      "accuracy       0.930757  0.930757  0.930757     0.930757\n",
      "macro avg      0.930938  0.930489  0.930665  6831.000000\n",
      "weighted avg   0.930817  0.930757  0.930739  6831.000000\n",
      "\n",
      "Confusion Matrix:\n",
      "[[3303  212]\n",
      " [ 261 3055]]\n"
     ]
    },
    {
     "data": {
      "image/png": "[encoded data removed]",
      "text/plain": [
       "<Figure size 600x400 with 1 Axes>"
      ]
     },
     "metadata": {},
     "output_type": "display_data"
    },
    {
     "name": "stderr",
     "output_type": "stream",
     "text": [
      "/var/folders/43/w059gz5x76g94491sqt2f0kh0000gn/T/ipykernel_3781/2898911977.py:43: FutureWarning: \n",
      "\n",
      "Passing `palette` without assigning `hue` is deprecated and will be removed in v0.14.0. Assign the `x` variable to `hue` and set `legend=False` for the same effect.\n",
      "\n",
      "  sns.barplot(x=report_df_m4.index[:-3], y=report_df_m4['f1-score'][:-3], palette='crest')\n"
     ]
    },
    {
     "data": {
      "image/png": "[encoded data removed]",
      "text/plain": [
       "<Figure size 800x400 with 1 Axes>"
      ]
     },
     "metadata": {},
     "output_type": "display_data"
    }
   ],
   "source": [
    "# TF-IDF Vectorizer\n",
    "tfidf_vect_m4 = TfidfVectorizer(min_df=5, ngram_range=(1,2))\n",
    "X_train_tfidf_m4 = tfidf_vect_m4.fit_transform(X_train)\n",
    "X_val_tfidf_m4  = tfidf_vect_m4.transform(X_val)\n",
    "\n",
    "\n",
    "# Model - Naive Bayes + TF-IDF\n",
    "nb_tfidf_m4 = MultinomialNB()\n",
    "nb_tfidf_m4.fit(X_train_tfidf_m4, y_train)\n",
    "pred_v_tfidf_m4 = nb_tfidf_m4.predict(X_val_tfidf_m4)\n",
    "pred_t_tfidf_m4 = nb_tfidf_m4.predict(X_train_tfidf_m4)\n",
    "\n",
    "\n",
    "train_acc_tfidfnb_m4 = accuracy_score(y_train, pred_t_tfidf_m4)\n",
    "val_acc_tfidfnb_m4 = accuracy_score(y_val, pred_v_tfidf_m4)\n",
    "\n",
    "print(\"Model (Naive Bayes + TF-IDF) Train accuracy:\", train_acc_tfidfnb_m4)\n",
    "print(\"Model (Naive Bayes + TF-IDF) Validation accuracy:\", val_acc_tfidfnb_m4)\n",
    "\n",
    "\n",
    "\n",
    "# ---- Classification Report ----\n",
    "report_m4 = classification_report(y_val, pred_v_tfidf_m4, output_dict=True)\n",
    "report_df_m4 = pd.DataFrame(report_m4).transpose()\n",
    "print(\"\\nClassification Report:\")\n",
    "print(report_df_m4)\n",
    "\n",
    "# ---- Confusion Matrix ----\n",
    "cm_m4 = confusion_matrix(y_val, pred_v_tfidf_m4)\n",
    "print(\"\\nConfusion Matrix:\")\n",
    "print(cm_m4)\n",
    "\n",
    "# ---- Plot Confusion Matrix ----\n",
    "plt.figure(figsize=(6,4))\n",
    "sns.heatmap(cm_m4, annot=True, fmt='d', cmap='Greens', cbar=False)\n",
    "plt.title(f'Confusion Matrix - Naive Bayes + TF-IDF (Accuracy: {val_acc_tfidfnb_m4:.2f})')\n",
    "plt.xlabel('Predicted')\n",
    "plt.ylabel('Actual')\n",
    "plt.show()\n",
    "\n",
    "# ---- Plot Class-wise F1 Scores ----\n",
    "plt.figure(figsize=(8,4))\n",
    "sns.barplot(x=report_df_m4.index[:-3], y=report_df_m4['f1-score'][:-3], palette='crest')\n",
    "plt.title('Class-wise F1 Scores (Naive Bayes + TF-IDF)')\n",
    "plt.ylabel('F1 Score')\n",
    "plt.xticks(rotation=45)\n",
    "plt.show()\n"
   ]
  },
  {
   "cell_type": "markdown",
   "id": "735d99ec",
   "metadata": {},
   "source": [
    "##### STEP 6 : PREDICT ON NEW TEST DATA"
   ]
  },
  {
   "cell_type": "code",
   "execution_count": 17,
   "id": "2fc1b614",
   "metadata": {},
   "outputs": [],
   "source": [
    "# Load test data\n",
    "test_df = pd.read_csv(\"~/Library/Mobile Documents/com~apple~CloudDocs/Ironhack/Project_2/testing_data_lowercase_nolabels.csv\", sep=\"\\t\", header=None, names=['label','title'], encoding='utf-8', engine='python')"
   ]
  },
  {
   "cell_type": "code",
   "execution_count": 18,
   "id": "49d22525",
   "metadata": {},
   "outputs": [],
   "source": [
    "# Adding headers \n",
    "test_df['Processed_Text'] = test_df['title'].apply(preprocess_text)"
   ]
  },
  {
   "cell_type": "code",
   "execution_count": 19,
   "id": "c56149f8",
   "metadata": {},
   "outputs": [],
   "source": [
    "#Splitting of the data\n",
    "X_test = test_df['Processed_Text']\n",
    "\n",
    "# TF-IDF Vectorizer\n",
    "X_test_tfidf  = tfidf_vect_m4.transform(X_test)\n",
    "\n",
    "# Model - Naive Bayes + TF-IDF\n",
    "pred_test_tfidf = nb_tfidf_m4.predict(X_test_tfidf)\n",
    "test_df = test_df.drop(\"label\", axis=1)\n",
    "test_df[\"Predictedlabel\"] = pred_test_tfidf\n"
   ]
  },
  {
   "cell_type": "code",
   "execution_count": 20,
   "id": "a12dacbd",
   "metadata": {},
   "outputs": [
    {
     "name": "stdout",
     "output_type": "stream",
     "text": [
      "Predictions saved to ~/Downloads/testing_predictions.csv\n"
     ]
    }
   ],
   "source": [
    "# Save predictions\n",
    "output_file = \"~/Downloads/testing_predictions.csv\"\n",
    "test_df.to_csv(output_file, index=False)\n",
    "print(f\"Predictions saved to {output_file}\")"
   ]
  }
 ],
 "metadata": {
  "kernelspec": {
   "display_name": "conda_demo",
   "language": "python",
   "name": "python3"
  },
  "language_info": {
   "codemirror_mode": {
    "name": "ipython",
    "version": 3
   },
   "file_extension": ".py",
   "mimetype": "text/x-python",
   "name": "python",
   "nbconvert_exporter": "python",
   "pygments_lexer": "ipython3",
   "version": "3.13.7"
  }
 },
 "nbformat": 4,
 "nbformat_minor": 5
}
